{
 "cells": [
  {
   "cell_type": "markdown",
   "metadata": {},
   "source": [
    "akljlkejgerg"
   ]
  },
  {
   "cell_type": "code",
   "execution_count": 4,
   "metadata": {},
   "outputs": [
    {
     "name": "stdout",
     "output_type": "stream",
     "text": [
      "Alice works in HR and earns 31000.\n",
      "Bob works in IT and earns 41000.\n",
      "Charlie works in HR and earns 28000.\n",
      "[{'name': 'Bob', 'department': 'IT', 'salary': 41000, 'employeeID': 1}]\n",
      "{'name': 'Bob', 'department': 'IT', 'salary': 41000, 'employeeID': 1}\n",
      "[31000, 41000, 28000]\n",
      "The average salary is: 33333.333333333336\n",
      "The average salary for employees in HR department is: 29500.0\n"
     ]
    }
   ],
   "source": [
    "employeeID = [\n",
    "    {\n",
    "        \"name\": \"Alice\",\n",
    "        \"department\": \"HR\",\n",
    "        \"salary\": 31000,\n",
    "        \"employeeID\": 0\n",
    "        \n",
    "    },\n",
    "    {\n",
    "        \"name\": \"Bob\",\n",
    "        \"department\": \"IT\",\n",
    "        \"salary\": 41000,\n",
    "        \"employeeID\": 1\n",
    "    },\n",
    "    {\n",
    "        \"name\": \"Charlie\",\n",
    "        \"department\": \"HR\",\n",
    "        \"salary\": 28000,\n",
    "        \"employeeID\": 2\n",
    "    }\n",
    "]  \n",
    "\n",
    "for employee in employeeID:\n",
    "    print(f\"{employee['name']} works in {employee['department']} and earns {employee[\"salary\"]}.\")\n",
    "\n",
    "\n",
    "print(employeeID[1:2])\n",
    "#same as above, but no slicing\n",
    "print(employeeID[1])\n",
    "\n",
    "salaries = [employee[\"salary\"] for employee in employeeID]\n",
    "print(salaries)\n",
    "\n",
    "Salary_Mean = sum(salaries) / len(salaries)\n",
    "print(f\"The average salary is: {Salary_Mean}\")\n",
    "\n",
    "Salary_Mean_HR = (employeeID[0][\"salary\"] + employeeID[2][\"salary\"]) / 2\n",
    "\n",
    "print(f\"The average salary for employees in HR department is: {Salary_Mean_HR}\")"
   ]
  },
  {
   "cell_type": "code",
   "execution_count": 7,
   "metadata": {},
   "outputs": [
    {
     "name": "stdout",
     "output_type": "stream",
     "text": [
      "[('Alice', 31000), ('Charlie', 28000)]\n",
      "[('Alice', 31000), ('Charlie', 28000)]\n"
     ]
    }
   ],
   "source": [
    "#first try.\n",
    "employees_in_hr = [(employee[\"name\"], employee[\"salary\"]) for employee in employeeID if employee[\"department\"] == \"HR\"]\n",
    "print(employees_in_hr)\n"
   ]
  },
  {
   "cell_type": "code",
   "execution_count": 8,
   "metadata": {},
   "outputs": [
    {
     "name": "stdout",
     "output_type": "stream",
     "text": [
      "[{'name': 'Alice', 'department': 'HR', 'salary': 31000, 'employeeID': 0}, {'name': 'Charlie', 'department': 'HR', 'salary': 28000, 'employeeID': 2}]\n"
     ]
    }
   ],
   "source": [
    "#optimised try\n",
    "hr_employees = [employee for employee in employeeID if employee[\"department\"] == \"HR\"]\n",
    "\n",
    "print(hr_employees)\n"
   ]
  },
  {
   "cell_type": "code",
   "execution_count": 16,
   "metadata": {},
   "outputs": [
    {
     "name": "stdout",
     "output_type": "stream",
     "text": [
      "['HR', 'IT']\n"
     ]
    }
   ],
   "source": [
    "unique_deps = list(set(employee[\"department\"] for employee in employeeID))\n",
    "print(unique_deps)"
   ]
  },
  {
   "cell_type": "code",
   "execution_count": null,
   "metadata": {},
   "outputs": [],
   "source": []
  }
 ],
 "metadata": {
  "kernelspec": {
   "display_name": "Python 3",
   "language": "python",
   "name": "python3"
  },
  "language_info": {
   "codemirror_mode": {
    "name": "ipython",
    "version": 3
   },
   "file_extension": ".py",
   "mimetype": "text/x-python",
   "name": "python",
   "nbconvert_exporter": "python",
   "pygments_lexer": "ipython3",
   "version": "3.12.2"
  }
 },
 "nbformat": 4,
 "nbformat_minor": 2
}
